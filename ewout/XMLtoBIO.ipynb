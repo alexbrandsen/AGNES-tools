{
 "cells": [
  {
   "cell_type": "code",
   "execution_count": 96,
   "metadata": {},
   "outputs": [],
   "source": [
    "import re\n",
    "\n",
    "\n",
    "inputfile =  \"D:\\\\phd-data\\\\NER-predictions-comparison-NL-EN-DE-multiple-methods\\\\Dutch\\\\GATE\\\\xml\\\\fold5.xml\"\n",
    "outputfile = \"D:\\\\phd-data\\\\NER-predictions-comparison-NL-EN-DE-multiple-methods\\\\Dutch\\\\GATE\\\\bio\\\\fold5.txt\"\n",
    "\n",
    "with open (inputfile, \"r\", encoding=\"utf-8\") as f:\n",
    "    text = f.read()\n",
    "    cleaned_text = re.sub(r\"<([a-zA-Z0-9]+)([^>]+)>\", r\"<\\1>\", text) # take out attributes of xml tags\n",
    "    cleaned_text = cleaned_text.replace('. \\n',' .\\n ') # tokenise points back\n",
    "    cleaned_text = cleaned_text.replace('   ','  & ') # put ampersands back in\n",
    "#     cleaned_text = cleaned_text.replace('( ed. )','( ed . )') # put space back in\n",
    "#     cleaned_text = cleaned_text.replace(' sp.',' sp .') # put space back in\n",
    "#     cleaned_text = cleaned_text.replace(' cf.',' cf .') # put space back in\n",
    "#     cleaned_text = cleaned_text.replace(' comm.',' comm .') # put space back in\n",
    "    cleaned_text = cleaned_text.replace('</ART>.','.</ART>').replace('</PER>.','.</PER>') # move points into tags    \n",
    "    lines = cleaned_text.split('\\n')\n",
    "    lines = lines[2:] # take out first two lines, as they are xml and whitespace\n",
    "    output = \"\"\n",
    "    current_tag = False\n",
    "    for line in lines:\n",
    "        \n",
    "        tokens = line.split()\n",
    "        \n",
    "        \n",
    "        for token in tokens:\n",
    "            \n",
    "            if \"<ART>\" in token or \"<PER>\" in token: # start of tag\n",
    "                entity = re.search(r\"<(ART|PER)>\",token)[1]\n",
    "                tag = re.search(r\"<(ART|PER)>\",token)[0]\n",
    "                                \n",
    "                if \"</ART>\" in token or \"</PER>\" in token: # end of tag in same token\n",
    "                    end_tag = re.search(r\"</(ART|PER)>\",token)[0]\n",
    "                    output += f\"{token.replace(tag,'').replace(end_tag,'')} B-{entity}\\n\"\n",
    "                    current_tag = False\n",
    "                else:\n",
    "                    output += f\"{token.replace(tag,'')} B-{entity}\\n\"\n",
    "                    current_tag = entity\n",
    "                    \n",
    "            elif current_tag and (\"</ART>\" in token or \"</PER>\" in token): # in tag, found end\n",
    "                output += f\"{token.replace('</ART>','').replace('</PER>','')} I-{current_tag}\\n\"\n",
    "                current_tag = False\n",
    "                \n",
    "            elif current_tag: # in tag, not found end yet\n",
    "                output += f\"{token} I-{current_tag}\\n\"\n",
    "                \n",
    "            else: # output O\n",
    "                output += f\"{token} O\\n\"\n",
    "                \n",
    "        #print(line)\n",
    "        output += '\\n' #extra line ending to show end of sentence\n",
    "        \n",
    "#print(output)\n",
    "with open(outputfile, \"w\", encoding=\"utf-8\") as file:\n",
    "    file.write(output)\n",
    "\n"
   ]
  },
  {
   "cell_type": "code",
   "execution_count": null,
   "metadata": {},
   "outputs": [],
   "source": []
  },
  {
   "cell_type": "code",
   "execution_count": null,
   "metadata": {},
   "outputs": [],
   "source": []
  }
 ],
 "metadata": {
  "kernelspec": {
   "display_name": "Python 3",
   "language": "python",
   "name": "python3"
  },
  "language_info": {
   "codemirror_mode": {
    "name": "ipython",
    "version": 3
   },
   "file_extension": ".py",
   "mimetype": "text/x-python",
   "name": "python",
   "nbconvert_exporter": "python",
   "pygments_lexer": "ipython3",
   "version": "3.8.3"
  }
 },
 "nbformat": 4,
 "nbformat_minor": 4
}
