{
 "cells": [
  {
   "cell_type": "code",
   "execution_count": 30,
   "metadata": {},
   "outputs": [],
   "source": [
    "inputfile =  \"D:\\\\phd-data\\\\NER-annotation-data\\\\Dutch\\\\annotated-dataset\\\\bio\\\\5-folds-without-pos-with-cut-sentences-90\\\\fold5\\\\test.txt\"\n",
    "outputfile = \"D:\\\\phd-data\\\\NER-annotation-data\\\\Dutch\\\\annotated-dataset\\\\xml\\\\5-folds\\\\fold5.xml\"\n",
    "\n",
    "with open (inputfile, \"r\", encoding=\"utf-8\") as f:\n",
    "    data = f.readlines()\n",
    "    output = \"\"\n",
    "    for line in data:\n",
    "        try:\n",
    "            line = line.split()\n",
    "            if line[-1] != \"O\":\n",
    "                line = \"<\" + line[-1] + \">\" + line[0] + \"</\" + line[-1] + \">\"\n",
    "            else:\n",
    "                line = line[0]\n",
    "            output += line + \" \"\n",
    "        except:\n",
    "            output += \"\\n\"\n",
    "\n",
    "    x = output.count(\"<I-\")\n",
    "    x += 1\n",
    "    while x >0:\n",
    "        try:\n",
    "            tag = output.index(\"<I-\")\n",
    "            tag = str(output[tag-9:tag+7])\n",
    "            output = output.replace(tag, \" \")\n",
    "            x -= 1\n",
    "        except:\n",
    "            break\n",
    "\n",
    "with open(outputfile, \"w\", encoding=\"utf-8\") as p:\n",
    "    p.write(output.replace(\" .\", \".\").replace(\"B-\", \"\").replace(\"I-\", \"\"))\n",
    "\n"
   ]
  },
  {
   "cell_type": "code",
   "execution_count": null,
   "metadata": {},
   "outputs": [],
   "source": []
  }
 ],
 "metadata": {
  "kernelspec": {
   "display_name": "Python 3",
   "language": "python",
   "name": "python3"
  },
  "language_info": {
   "codemirror_mode": {
    "name": "ipython",
    "version": 3
   },
   "file_extension": ".py",
   "mimetype": "text/x-python",
   "name": "python",
   "nbconvert_exporter": "python",
   "pygments_lexer": "ipython3",
   "version": "3.8.3"
  }
 },
 "nbformat": 4,
 "nbformat_minor": 4
}
