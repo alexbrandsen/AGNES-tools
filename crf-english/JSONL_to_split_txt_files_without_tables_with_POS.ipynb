{
 "cells": [
  {
   "cell_type": "code",
   "execution_count": 17,
   "id": "55d34b48",
   "metadata": {},
   "outputs": [
    {
     "name": "stdout",
     "output_type": "stream",
     "text": [
      "Requirement already satisfied: jsonlines in c:\\anaconda\\envs\\trial2\\lib\\site-packages (3.1.0)\n",
      "Requirement already satisfied: typing-extensions in c:\\anaconda\\envs\\trial2\\lib\\site-packages (from jsonlines) (4.3.0)\n",
      "Requirement already satisfied: attrs>=19.2.0 in c:\\anaconda\\envs\\trial2\\lib\\site-packages (from jsonlines) (21.4.0)\n"
     ]
    },
    {
     "name": "stderr",
     "output_type": "stream",
     "text": [
      "[nltk_data] Downloading package averaged_perceptron_tagger to\n",
      "[nltk_data]     C:\\Users\\Alphaeus Talks\\AppData\\Roaming\\nltk_data...\n",
      "[nltk_data]   Package averaged_perceptron_tagger is already up-to-\n",
      "[nltk_data]       date!\n"
     ]
    }
   ],
   "source": [
    "#load and install required packages\n",
    "!pip install jsonlines\n",
    "\n",
    "# import required libraries\n",
    "import jsonlines\n",
    "import pandas as pd\n",
    "import sys\n",
    "import re\n",
    "import nltk\n",
    "import os\n",
    "nltk.download('averaged_perceptron_tagger')\n",
    "### import nltk POS tagger here\n",
    "import nltk"
   ]
  },
  {
   "cell_type": "code",
   "execution_count": 18,
   "id": "0eef1f78",
   "metadata": {},
   "outputs": [],
   "source": [
    "#first remove any lines likely to be tables - feel free to remove, but it makes allows only terms with clear context to be included"
   ]
  },
  {
   "cell_type": "code",
   "execution_count": 19,
   "id": "c6db542a",
   "metadata": {},
   "outputs": [],
   "source": [
    "#define what the symbols will be in the table\n",
    "table_signs = ['-- --', '|-','|  |','--  --','|']\n",
    "#create a new file which has not got any tables in it\n",
    "with open('english-jsonl/all.jsonl') as all, open('no-tables/no_tables.jsonl', 'w') as all_no_tables:\n",
    "    for line in all:\n",
    "        if not any(table_signs in line for table_signs in table_signs):\n",
    "            all_no_tables.write(line)"
   ]
  },
  {
   "cell_type": "code",
   "execution_count": 20,
   "id": "5f6b1904",
   "metadata": {},
   "outputs": [],
   "source": [
    "#calculate the number of lines in the Json and split the JSON"
   ]
  },
  {
   "cell_type": "code",
   "execution_count": 21,
   "id": "d9e4d1f5",
   "metadata": {},
   "outputs": [
    {
     "name": "stdout",
     "output_type": "stream",
     "text": [
      "already run\n",
      "total number of lines: 3706\n",
      "all documents and their lines: \n",
      "{'no-tables\\\\no_tables.jsonl': 3706}\n",
      "total number of files: 1\n"
     ]
    }
   ],
   "source": [
    "total_entries = 0\n",
    "line_in_txt = {}\n",
    "def countlines(directory = \"./\", lines=0, ext=\".jsonl\", skip_blank=False): #define the function as countlines. count number of breaks, set the lines as 0. Count in the files .bio \n",
    "    # initialize lines to 0 at the start\n",
    "    # loop through all subfolders and files on the directory\n",
    "\n",
    "    if total_entries == 0:\n",
    "        for root, dirs, files in os.walk(directory):\n",
    "            # loop through the files\n",
    "            for filename in files:\n",
    "                # if file does not end with ext skip it and start\n",
    "                # the loop to check the next file\n",
    "                if not filename.endswith(ext):\n",
    "                    continue\n",
    "                # relative path to the file\n",
    "                file = os.path.join(root, filename)\n",
    "                # Open the file in read mode (r)\n",
    "                with open(file, \"r\", encoding=\"utf-8\") as f:\n",
    "                    if skip_blank:\n",
    "                        # skip blank spaces. i.strip() captures non-blank.\n",
    "                        new_lines = len([i for i in f.readlines() if i.strip()])\n",
    "                    else:\n",
    "                        # count all the lines including blank ones\n",
    "                        new_lines = len(f.readlines())\n",
    "                    # add the new_lines found on the current file to the total (lines)\n",
    "                    lines = lines + new_lines\n",
    "                    line_in_txt[file] = new_lines\n",
    "                #print(file,\"------>\",new_lines) # only if needing to have a look inside at the individual number of lines \n",
    "        else:\n",
    "            print(\"already run\")\n",
    "        return lines\n",
    "# call the function\n",
    "print(\"total number of lines: \"+str(countlines(directory=\"no-tables\",ext=\".jsonl\", skip_blank=True))) #looks in this direcoctory and skills those lines which are blank \n",
    "print(\"all documents and their lines: \" +\"\\n\"+ str(line_in_txt)) # displays the dictionary of lines and their file\n",
    "total_lines = sum(line_in_txt.values()) # Counts the number of lines in the dictionary\n",
    "total_entries = len(line_in_txt.values()) #counts the number of entries in the dictionary to check if all documents were looked at\n",
    "# print(total_lines) \n",
    "print(\"total number of files: \" + str(total_entries))"
   ]
  },
  {
   "cell_type": "code",
   "execution_count": 22,
   "id": "a6c4edf8",
   "metadata": {},
   "outputs": [],
   "source": [
    "#Time to work out the number of lines in document and where to split the document."
   ]
  },
  {
   "cell_type": "code",
   "execution_count": 23,
   "id": "d016b702",
   "metadata": {},
   "outputs": [
    {
     "name": "stdout",
     "output_type": "stream",
     "text": [
      "train split 2965\n",
      "train max 3113\n",
      "train min 2817\n",
      "test split 741\n",
      "test max 778\n",
      "test min 704\n"
     ]
    }
   ],
   "source": [
    "split_percent = 0.8# makes it easier to define split. Just look for this\n",
    "\n",
    "train_split = round(total_lines *split_percent) #calculates the proportion of lines needed for the value wanted rounded for ease\n",
    "\n",
    "print(\"train split \"+ str(train_split))\n",
    "train_split_max = round(train_split * 1.05) # makes the max which is plus 5%\n",
    "train_split_min = round(train_split * 0.95) #makes the min which is minus 5%\n",
    "print(\"train max \"+ str(train_split_max)) #states the maximum number\n",
    "print(\"train min \"+ str(train_split_min)) #states the minimum number\n",
    "\n",
    "test_split = round(total_lines *(1-split_percent)) #calculates the proportion of lines needed for the value wanted rounded for ease\n",
    "\n",
    "print(\"test split \"+ str(test_split))\n",
    "test_split_max = round(test_split * 1.05) # makes the max which is plus 5%\n",
    "test_split_min = round(test_split * 0.95) #makes the min which is minus 5%\n",
    "print(\"test max \"+ str(test_split_max)) #states the maximum number\n",
    "print(\"test min \"+ str(test_split_min)) #states the minimum number"
   ]
  },
  {
   "cell_type": "code",
   "execution_count": 24,
   "id": "8656dd16",
   "metadata": {},
   "outputs": [
    {
     "name": "stdout",
     "output_type": "stream",
     "text": [
      "{'no-tables\\\\no_tables.jsonl': 3706}\n"
     ]
    }
   ],
   "source": [
    "#sort the dictionary to make it easier - if just one file it will just output the name of the one. \n",
    "Sorted_line_in_txt = sorted(line_in_txt.items(), key=lambda x:x[1], reverse=False ) #this turns the sorted lines into a string but in order\n",
    "sorted_dictionary_line_in_txt = dict(Sorted_line_in_txt) #turns it back into a dictionary that is sorted    \n",
    "print(sorted_dictionary_line_in_txt)"
   ]
  },
  {
   "cell_type": "code",
   "execution_count": 25,
   "id": "acd5778b",
   "metadata": {},
   "outputs": [],
   "source": [
    "#time to split the file into the different sections - split 0 is for the defined split above. "
   ]
  },
  {
   "cell_type": "code",
   "execution_count": 26,
   "id": "b40b90aa",
   "metadata": {},
   "outputs": [],
   "source": [
    "with open(\"no-tables/no_tables.jsonl\",'r') as file:\n",
    "    lines = file.readlines()\n",
    "\n",
    "with open(\"no-tables/jsonl/split0/train.jsonl\",'w') as file:\n",
    "    for line in lines[:int(len(lines)*split_percent)]:\n",
    "        file.write(line)\n",
    "\n",
    "with open(\"no-tables/jsonl/split0/test.jsonl\",'w') as file:\n",
    "    for line in lines[int(len(lines)*split_percent):]:\n",
    "        file.write(line)\n",
    "    \n",
    "with open(\"no-tables/jsonl/split1/train.jsonl\",'w') as file:\n",
    "    for line in lines[:int(len(lines)/10)]:\n",
    "        file.write(line)\n",
    "\n",
    "with open(\"no-tables/jsonl/split1/test.jsonl\",'w') as file:\n",
    "#     for line in lines[int(len(lines)/10):(int(len(lines)/10))*2]:\n",
    "    for line in lines[(int(len(lines)/10))*9:]:\n",
    "        file.write(line)\n",
    "\n",
    "with open(\"no-tables/jsonl/split2/train.jsonl\",'w') as file:\n",
    "    for line in lines[:(int(len(lines)/10))*2]:\n",
    "        file.write(line)\n",
    "\n",
    "with open(\"no-tables/jsonl/split2/test.jsonl\",'w') as file:\n",
    "#     for line in lines[(int(len(lines)/10))*2:(int(len(lines)/10))*3]:\n",
    "    for line in lines[(int(len(lines)/10))*9:]:\n",
    "        file.write(line)\n",
    "        \n",
    "with open(\"no-tables/jsonl/split3/train.jsonl\",'w') as file:\n",
    "    for line in lines[:(int(len(lines)/10))*3]:\n",
    "        file.write(line)\n",
    "\n",
    "with open(\"no-tables/jsonl/split3/test.jsonl\",'w') as file:\n",
    "#     for line in lines[(int(len(lines)/10))*3:(int(len(lines)/10))*4]:\n",
    "    for line in lines[(int(len(lines)/10))*9:]:\n",
    "        file.write(line)\n",
    "        \n",
    "with open(\"no-tables/jsonl/split4/train.jsonl\",'w') as file:\n",
    "    for line in lines[:(int(len(lines)/10))*4]:\n",
    "        file.write(line)\n",
    "\n",
    "with open(\"no-tables/jsonl/split4/test.jsonl\",'w') as file:\n",
    "#     for line in lines[(int(len(lines)/10))*4:(int(len(lines)/10))*5]:\n",
    "    for line in lines[(int(len(lines)/10))*9:]:\n",
    "        file.write(line)\n",
    "\n",
    "with open(\"no-tables/jsonl/split5/train.jsonl\",'w') as file:\n",
    "    for line in lines[:(int(len(lines)/10))*5]:\n",
    "        file.write(line)\n",
    "\n",
    "with open(\"no-tables/jsonl/split5/test.jsonl\",'w') as file:\n",
    "#     for line in lines[(int(len(lines)/10))*5:(int(len(lines)/10))*6]:\n",
    "    for line in lines[(int(len(lines)/10))*9:]:\n",
    "        file.write(line)\n",
    "\n",
    "with open(\"no-tables/jsonl/split6/train.jsonl\",'w') as file:\n",
    "    for line in lines[:(int(len(lines)/10))*6]:\n",
    "        file.write(line)\n",
    "\n",
    "with open(\"no-tables/jsonl/split6/test.jsonl\",'w') as file:\n",
    "#     for line in lines[(int(len(lines)/10))*6:(int(len(lines)/10))*7]:\n",
    "    for line in lines[(int(len(lines)/10))*9:]:\n",
    "        file.write(line)\n",
    "        \n",
    "with open(\"no-tables/jsonl/split7/train.jsonl\",'w') as file:\n",
    "    for line in lines[:(int(len(lines)/10))*7]:\n",
    "        file.write(line)\n",
    "\n",
    "with open(\"no-tables/jsonl/split7/test.jsonl\",'w') as file:\n",
    "#     for line in lines[(int(len(lines)/10))*7:(int(len(lines)/10))*8]:\n",
    "    for line in lines[(int(len(lines)/10))*9:]:\n",
    "\n",
    "        file.write(line)\n",
    "        \n",
    "with open(\"no-tables/jsonl/split8/train.jsonl\",'w') as file:\n",
    "    for line in lines[:(int(len(lines)/10))*8]:\n",
    "        file.write(line)\n",
    "\n",
    "with open(\"no-tables/jsonl/split8/test.jsonl\",'w') as file:\n",
    "#     for line in lines[(int(len(lines)/10))*8:(int(len(lines)/10))*9]:\n",
    "    for line in lines[(int(len(lines)/10))*9:]:\n",
    "        file.write(line)\n",
    "        \n",
    "with open(\"no-tables/jsonl/split9/train.jsonl\",'w') as file:\n",
    "    for line in lines[:(int(len(lines)/10))*9]:\n",
    "        file.write(line)\n",
    "\n",
    "with open(\"no-tables/jsonl/split9/test.jsonl\",'w') as file:\n",
    "    for line in lines[(int(len(lines)/10))*9:]:\n",
    "        file.write(line)"
   ]
  },
  {
   "cell_type": "code",
   "execution_count": 27,
   "id": "fb0e3910",
   "metadata": {},
   "outputs": [],
   "source": [
    "#convert the files into bioformat"
   ]
  },
  {
   "cell_type": "code",
   "execution_count": 28,
   "id": "073454b0",
   "metadata": {},
   "outputs": [],
   "source": [
    "tagTableFileLocation = 'tagtable-English-2022.txt' #identify what the tag table is\n",
    "# get annotation name to BIO tag table\n",
    "tagTable = {}\n",
    "tagTableTemp = open(tagTableFileLocation).read().split('\\n')\n",
    "for tag in tagTableTemp:\n",
    "    if len(tag):\n",
    "        tag = tag.split('|')\n",
    "        tagTable[tag[0]] = tag[1]"
   ]
  },
  {
   "cell_type": "code",
   "execution_count": 29,
   "id": "8e06b33a",
   "metadata": {
    "scrolled": true
   },
   "outputs": [
    {
     "name": "stdout",
     "output_type": "stream",
     "text": [
      "no-tables\\bio\\split0\\test.bio\n",
      "no-tables\\bio\\split0\\train.bio\n",
      "no-tables\\bio\\split1\\test.bio\n",
      "no-tables\\bio\\split1\\train.bio\n",
      "no-tables\\bio\\split2\\test.bio\n",
      "no-tables\\bio\\split2\\train.bio\n",
      "no-tables\\bio\\split3\\test.bio\n",
      "no-tables\\bio\\split3\\train.bio\n",
      "no-tables\\bio\\split4\\test.bio\n",
      "no-tables\\bio\\split4\\train.bio\n",
      "no-tables\\bio\\split5\\test.bio\n",
      "no-tables\\bio\\split5\\train.bio\n",
      "no-tables\\bio\\split6\\test.bio\n",
      "no-tables\\bio\\split6\\train.bio\n",
      "no-tables\\bio\\split7\\test.bio\n",
      "no-tables\\bio\\split7\\train.bio\n",
      "no-tables\\bio\\split8\\test.bio\n",
      "no-tables\\bio\\split8\\train.bio\n",
      "no-tables\\bio\\split9\\test.bio\n",
      "no-tables\\bio\\split9\\train.bio\n"
     ]
    }
   ],
   "source": [
    "input_file_location = ''\n",
    "output_file_location = ''\n",
    "tagTableFileLocation = 'tagtable-English-2022.txt'\n",
    "def convert_to_bio(directory = \"./\", ext=\".jsonl\", skip_blank=False):\n",
    "    # initialize lines to 0 at the start\n",
    "    # loop through all subfolders and files on the directory\n",
    "    for root, dirs, files in os.walk(directory):\n",
    "        # loop through the files\n",
    "        for filename in files:\n",
    "            # if file does not end with ext skip it and start\n",
    "            # the loop to check the next file\n",
    "            if not filename.endswith(ext):\n",
    "                continue\n",
    "            # relative path to the file\n",
    "            input_file_location = root+\"\\\\\"+(filename) \n",
    "            \n",
    "            output_file_location = \"no-tables\\\\bio\\\\\"+str(root[-6:])+\"\\\\\"+str(filename[:-6],)+\".bio\" \n",
    "            annotationId = 0\n",
    "\n",
    "            bioOutput = ''\n",
    "            with jsonlines.open(input_file_location) as reader:\n",
    "                for obj in reader:\n",
    "                    if len(obj['label']):\n",
    "                        # first, make list of annotated characters\n",
    "                        annotatedCharacters = {} \n",
    "                        for ann in obj['label']: \n",
    "                            annotationId += 1\n",
    "                            annRange = range(ann[0], ann[1]+1) # make range, plus 1 at the end as we want to include the space after the word\n",
    "                            #print(annRange)\n",
    "                            #print(obj['text'][ann[0]:ann[1]+1])\n",
    "                            for number in annRange:\n",
    "                                annotatedCharacters[number] = {'label' : tagTable[ann[2]], 'id' : annotationId} # add all numbers in range to annchars, so we can check each space against it later\n",
    "\n",
    "                        # now we'll check each space in string for a match against annotatedCharacters\n",
    "                        bioTags = []\n",
    "                        i = 0\n",
    "                        previousAnnId = 0\n",
    "                        text = obj['text']+'  ' # add space at end so we can annotate last word\n",
    "                        for char in text:\n",
    "                            #print(char+obj['text'][i])\n",
    "                            if i > 0:\n",
    "                                #print(i)\n",
    "                                if char == \" \" and text[i-1] != \" \": # second part to stop double spaces\n",
    "                                    if i in annotatedCharacters and (i-1) in annotatedCharacters: # this space is at the end of an annotated word\n",
    "                                        tag = annotatedCharacters[i]['label']\n",
    "                                        if previousAnnId is annotatedCharacters[i]['id']:\n",
    "                                            BorI = \"I-\"\n",
    "                                        else:\n",
    "                                            BorI = \"B-\"\n",
    "                                        bioTags.append(BorI+tag)\n",
    "                                        previousAnnId = annotatedCharacters[i]['id']\n",
    "                                    else:\n",
    "                                        bioTags.append('O')\n",
    "                            i += 1\n",
    "                    else:\n",
    "                        bioTags = ['O'] * len(obj['text'].split('  '))\n",
    "\n",
    "                    # add POS tags via NLTK      \n",
    "                    output = nltk.pos_tag(obj['text'].split())\n",
    "                    i = 0\n",
    "                    outputParagraph = ''\n",
    "                    for token in output:\n",
    "                        outputParagraph += token[0]+' '+token[1]+' '+bioTags[i]+'\\n'\n",
    "                        i += 1\n",
    "\n",
    "                    bioOutput += outputParagraph+'\\n'\n",
    "\n",
    "                    #break\n",
    "\n",
    "            with open(output_file_location, \"wb\") as text_file:\n",
    "                text_file.write(bioOutput.encode('utf-8', errors='ignore'))\n",
    "\n",
    "            print(output_file_location)\n",
    "# call the function\n",
    "convert_to_bio(directory=\"no-tables\\jsonl\",ext=\".jsonl\") "
   ]
  },
  {
   "cell_type": "code",
   "execution_count": 30,
   "id": "c62c250a",
   "metadata": {},
   "outputs": [],
   "source": [
    "#change bio files to txt"
   ]
  },
  {
   "cell_type": "code",
   "execution_count": 31,
   "id": "c759635b",
   "metadata": {},
   "outputs": [
    {
     "name": "stdout",
     "output_type": "stream",
     "text": [
      "no-tables\\txt\\split0\\test.txt\n",
      "no-tables\\txt\\split0\\train.txt\n",
      "no-tables\\txt\\split1\\test.txt\n",
      "no-tables\\txt\\split1\\train.txt\n",
      "no-tables\\txt\\split2\\test.txt\n",
      "no-tables\\txt\\split2\\train.txt\n",
      "no-tables\\txt\\split3\\test.txt\n",
      "no-tables\\txt\\split3\\train.txt\n",
      "no-tables\\txt\\split4\\test.txt\n",
      "no-tables\\txt\\split4\\train.txt\n",
      "no-tables\\txt\\split5\\test.txt\n",
      "no-tables\\txt\\split5\\train.txt\n",
      "no-tables\\txt\\split6\\test.txt\n",
      "no-tables\\txt\\split6\\train.txt\n",
      "no-tables\\txt\\split7\\test.txt\n",
      "no-tables\\txt\\split7\\train.txt\n",
      "no-tables\\txt\\split8\\test.txt\n",
      "no-tables\\txt\\split8\\train.txt\n",
      "no-tables\\txt\\split9\\test.txt\n",
      "no-tables\\txt\\split9\\train.txt\n"
     ]
    }
   ],
   "source": [
    "input_file_location = ''\n",
    "output_file_location = ''\n",
    "def convert_to_txt(directory = \"./\", ext=\".bio\", skip_blank=False):\n",
    "    # initialize lines to 0 at the start\n",
    "    # loop through all subfolders and files on the directory\n",
    "    for root, dirs, files in os.walk(directory):\n",
    "        # loop through the files\n",
    "        for filename in files:\n",
    "            # if file does not end with ext skip it and start\n",
    "            # the loop to check the next file\n",
    "            if not filename.endswith(ext):\n",
    "                continue\n",
    "            # relative path to the file\n",
    "            input_file_location = root+\"\\\\\"+(filename) \n",
    "            output_file_location = \"no-tables\\\\txt\\\\\"+str(root[-6:])+\"\\\\\"+str(filename[:-4],)+\".txt\" \n",
    "            bio = pd.read_csv(input_file_location, on_bad_lines='skip')\n",
    "            bio.to_csv (output_file_location, index = False)            \n",
    "            print(output_file_location)\n",
    "# call the function\n",
    "convert_to_txt(directory=\"no-tables\\\\bio\",ext=\".bio\") "
   ]
  },
  {
   "cell_type": "code",
   "execution_count": null,
   "id": "a8973ca1",
   "metadata": {},
   "outputs": [],
   "source": []
  }
 ],
 "metadata": {
  "kernelspec": {
   "display_name": "Python 3 (ipykernel)",
   "language": "python",
   "name": "python3"
  },
  "language_info": {
   "codemirror_mode": {
    "name": "ipython",
    "version": 3
   },
   "file_extension": ".py",
   "mimetype": "text/x-python",
   "name": "python",
   "nbconvert_exporter": "python",
   "pygments_lexer": "ipython3",
   "version": "3.7.13"
  }
 },
 "nbformat": 4,
 "nbformat_minor": 5
}
