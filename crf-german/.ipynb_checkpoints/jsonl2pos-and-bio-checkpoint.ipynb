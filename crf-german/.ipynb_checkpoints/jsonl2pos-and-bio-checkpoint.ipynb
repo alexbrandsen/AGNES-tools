{
 "cells": [
  {
   "cell_type": "code",
   "execution_count": null,
   "metadata": {},
   "outputs": [],
   "source": []
  },
  {
   "cell_type": "code",
   "execution_count": 1,
   "metadata": {},
   "outputs": [
    {
     "name": "stdout",
     "output_type": "stream",
     "text": [
      "Requirement already satisfied: jsonlines in c:\\anaconda\\lib\\site-packages (3.1.0)\n",
      "Requirement already satisfied: attrs>=19.2.0 in c:\\anaconda\\lib\\site-packages (from jsonlines) (21.4.0)\n"
     ]
    }
   ],
   "source": [
    "!pip install jsonlines\n",
    "\n",
    "\n"
   ]
  },
  {
   "cell_type": "code",
   "execution_count": 2,
   "metadata": {},
   "outputs": [
    {
     "name": "stderr",
     "output_type": "stream",
     "text": [
      "[nltk_data] Downloading package averaged_perceptron_tagger to\n",
      "[nltk_data]     C:\\Users\\Alphaeus Talks\\AppData\\Roaming\\nltk_data...\n",
      "[nltk_data]   Package averaged_perceptron_tagger is already up-to-\n",
      "[nltk_data]       date!\n"
     ]
    }
   ],
   "source": [
    "import jsonlines\n",
    "import sys\n",
    "import re\n",
    "import nltk\n",
    "nltk.download('averaged_perceptron_tagger')\n",
    "### import nltk POS tagger here\n",
    "import nltk"
   ]
  },
  {
   "cell_type": "code",
   "execution_count": 16,
   "metadata": {},
   "outputs": [],
   "source": [
    "inputFileLocation = 'english-jsonl/test.json'\n",
    "outputFileLocation = 'english-bio/test.bio'\n",
    "tagTableFileLocation = 'tagtable-English-2022.txt'\n",
    "inputFileLocation = 'english-jsonl/train.json'\n",
    "outputFileLocation = 'english-bio/train.bio'\n",
    "tagTableFileLocation = 'tagtable-English-2022.txt'"
   ]
  },
  {
   "cell_type": "code",
   "execution_count": 17,
   "metadata": {},
   "outputs": [],
   "source": [
    "# get annotation name to BIO tag table\n",
    "tagTable = {}\n",
    "tagTableTemp = open(tagTableFileLocation).read().split('\\n')\n",
    "for tag in tagTableTemp:\n",
    "    if len(tag):\n",
    "        tag = tag.split('|')\n",
    "        tagTable[tag[0]] = tag[1]"
   ]
  },
  {
   "cell_type": "code",
   "execution_count": 18,
   "metadata": {},
   "outputs": [],
   "source": [
    "# go through document and make BIO output\n",
    "annotationId = 0\n",
    "\n",
    "bioOutput = ''\n",
    "with jsonlines.open(inputFileLocation) as reader:\n",
    "    for obj in reader:\n",
    "        if len(obj['label']):\n",
    "            # first, make list of annotated characters\n",
    "            annotatedCharacters = {} \n",
    "            for ann in obj['label']: \n",
    "                annotationId += 1\n",
    "                annRange = range(ann[0], ann[1]+1) # make range, plus 1 at the end as we want to include the space after the word\n",
    "                #print(annRange)\n",
    "                #print(obj['text'][ann[0]:ann[1]+1])\n",
    "                for number in annRange:\n",
    "                    annotatedCharacters[number] = {'label' : tagTable[ann[2]], 'id' : annotationId} # add all numbers in range to annchars, so we can check each space against it later\n",
    "\n",
    "            # now we'll check each space in string for a match against annotatedCharacters\n",
    "            bioTags = []\n",
    "            i = 0\n",
    "            previousAnnId = 0\n",
    "            text = obj['text']+'  ' # add space at end so we can annotate last word\n",
    "            for char in text:\n",
    "                #print(char+obj['text'][i])\n",
    "                if i > 0:\n",
    "                    #print(i)\n",
    "                    if char == \" \" and text[i-1] != \" \": # second part to stop double spaces\n",
    "                        if i in annotatedCharacters and (i-1) in annotatedCharacters: # this space is at the end of an annotated word\n",
    "                            tag = annotatedCharacters[i]['label']\n",
    "                            if previousAnnId is annotatedCharacters[i]['id']:\n",
    "                                BorI = \"I-\"\n",
    "                            else:\n",
    "                                BorI = \"B-\"\n",
    "                            bioTags.append(BorI+tag)\n",
    "                            previousAnnId = annotatedCharacters[i]['id']\n",
    "                        else:\n",
    "                            bioTags.append('O')\n",
    "                i += 1\n",
    "        else:\n",
    "            bioTags = ['O'] * len(obj['text'].split('  '))\n",
    "\n",
    "        # add POS tags via NLTK      \n",
    "        output = nltk.pos_tag(obj['text'].split())\n",
    "        i = 0\n",
    "        outputParagraph = ''\n",
    "        for token in output:\n",
    "            outputParagraph += token[0]+' '+token[1]+' '+bioTags[i]+'\\n'\n",
    "            i += 1\n",
    "\n",
    "        bioOutput += outputParagraph+'\\n'\n",
    "    \n",
    "        #break\n",
    "\n",
    "with open(outputFileLocation, \"wb\") as text_file:\n",
    "    text_file.write(bioOutput.encode('utf-8', errors='ignore'))\n"
   ]
  },
  {
   "cell_type": "code",
   "execution_count": null,
   "metadata": {},
   "outputs": [],
   "source": []
  },
  {
   "cell_type": "code",
   "execution_count": null,
   "metadata": {},
   "outputs": [],
   "source": []
  },
  {
   "cell_type": "code",
   "execution_count": null,
   "metadata": {},
   "outputs": [],
   "source": []
  },
  {
   "cell_type": "code",
   "execution_count": null,
   "metadata": {},
   "outputs": [],
   "source": []
  },
  {
   "cell_type": "code",
   "execution_count": null,
   "metadata": {},
   "outputs": [],
   "source": []
  },
  {
   "cell_type": "code",
   "execution_count": null,
   "metadata": {},
   "outputs": [],
   "source": []
  }
 ],
 "metadata": {
  "kernelspec": {
   "display_name": "Python 3 (ipykernel)",
   "language": "python",
   "name": "python3"
  },
  "language_info": {
   "codemirror_mode": {
    "name": "ipython",
    "version": 3
   },
   "file_extension": ".py",
   "mimetype": "text/x-python",
   "name": "python",
   "nbconvert_exporter": "python",
   "pygments_lexer": "ipython3",
   "version": "3.7.13"
  }
 },
 "nbformat": 4,
 "nbformat_minor": 4
}
