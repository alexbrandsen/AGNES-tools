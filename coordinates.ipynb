{
 "cells": [
  {
   "cell_type": "code",
   "execution_count": 231,
   "metadata": {},
   "outputs": [],
   "source": [
    "# import required libraries\n",
    "import re\n",
    "from geopy import Nominatim\n",
    "nom = Nominatim(user_agent=\"something\") # geopy needs an user_agent argument to work"
   ]
  },
  {
   "cell_type": "code",
   "execution_count": 232,
   "metadata": {},
   "outputs": [],
   "source": [
    "# set up rd2wgs function\n",
    "def rd2wgs (x,y):\n",
    "    \"\"\"Calculate WGS84 coordinates\"\"\"\n",
    "    x = int(x)\n",
    "    y = int(y)\n",
    "\n",
    "    dX = (x - 155000) * pow(10, - 5)\n",
    "    dY = (y - 463000) * pow(10, - 5)\n",
    "\n",
    "    SomN = (3235.65389 * dY) + (- 32.58297 * pow(dX, 2)) + (- 0.2475 * pow(dY, 2)) + (- 0.84978 * pow(dX, 2) * dY) + (- 0.0655 * pow(dY, 3)) + (- 0.01709 * pow(dX, 2) *pow(dY, 2)) + (- 0.00738 * dX) + (0.0053 * pow(dX, 4)) + (- 0.00039 * pow(dX, 2) *pow(dY, 3)) + (0.00033 * pow(dX, 4) * dY) + (- 0.00012 * dX * dY)\n",
    "\n",
    "    SomE = (5260.52916 * dX) + (105.94684 * dX * dY) + (2.45656 * dX * pow(dY, 2)) + (- 0.81885 * pow(dX, 3)) + (0.05594 * dX * pow(dY, 3)) + (- 0.05607 * pow(dX, 3) * dY) + (0.01199 * dY) + (- 0.00256 * pow(dX, 3) *pow(dY, 2)) + (0.00128 * dX * pow(dY, 4)) + (0.00022 * pow(dY,2)) + (- 0.00022 * pow(dX, 2)) + (0.00026 * pow(dX, 5))\n",
    "\n",
    "    lat = 52.15517 + (SomN / 3600)\n",
    "    lon = 5.387206 + (SomE / 3600)\n",
    "\n",
    "    return lat,lon"
   ]
  },
  {
   "cell_type": "code",
   "execution_count": 233,
   "metadata": {},
   "outputs": [],
   "source": [
    "placenameList = []"
   ]
  },
  {
   "cell_type": "code",
   "execution_count": 234,
   "metadata": {},
   "outputs": [],
   "source": [
    "# Set up placename function\n",
    "def placenameFinder(title, text):\n",
    "    for name in placenameList:\n",
    "        if name in title:\n",
    "            location = nom.geocode(name)\n",
    "            docCoordinates.append([location.latitude, location.longitude])\n",
    "        else:\n",
    "            if name in text:\n",
    "                location = nom.geocode(name)\n",
    "                docCoordinates.append([location.latitude, location.longitude])"
   ]
  },
  {
   "cell_type": "code",
   "execution_count": 235,
   "metadata": {},
   "outputs": [],
   "source": [
    "#load data\n",
    "docs = [\"D20650_RAAP-NOTITIE_274.txt\",\n",
    "        \"D30384_Rapport_Heeg_Lytshuzen_35.txt\",\n",
    "        \"D33465_rapport_vindplaatsen19-20-21.txt\",\n",
    "        \"D38139_arcrapport-2009-129.txt\",\n",
    "        \"D38273_ADC_73.txt\",\n",
    "        \"D38275_RAP_937_4107029_Neerijnen_Waardenburg_Brugconstructies.txt\",\n",
    "        \"D38312_arcrapport-2003-24_Middelburg_St._Laurens.txt\",\n",
    "        \"D47635_Rap_2938_4131273_Hilversum_Jacob_van_Campenlaan_147_tot_193.txt\",\n",
    "        \"D56558_12126389_IJS_HAM_ARC_Eindrapportage_archeologisch_karterend.txt\",\n",
    "        \"D58053_GAR_1060_Klein_Canada_Beekbergen.txt\"]"
   ]
  },
  {
   "cell_type": "code",
   "execution_count": 236,
   "metadata": {},
   "outputs": [],
   "source": [
    "# set up location list\n",
    "docLocations = []"
   ]
  },
  {
   "cell_type": "code",
   "execution_count": 237,
   "metadata": {},
   "outputs": [],
   "source": [
    "# main script\n",
    "for doc in docs:\n",
    "    with open(doc, \"r\", encoding=\"utf-8\") as f:\n",
    "        docCoordinates = []\n",
    "\n",
    "        # Finding all coordinates in text:\n",
    "        text = f.read()\n",
    "        docCoordinates += re.findall(r\"[yxXY]\\D{,4}\\d{,4}[.,]\\d{3},?\\d?.{,4}[yxXY]\\D{,4}\\d{,4}[.,]\\d{3},?\\d?\", text)\n",
    "        docCoordinates += re.findall(r\"\\d{2,3}[.,]\\d{2,3}.?/.?\\d{2,3}[.,]\\d{2,3}\", text)\n",
    "        docCoordinates += re.findall(r\"\\d{5,6}.?/.?\\d{5,6}\", text)\n",
    "\n",
    "        if len(docCoordinates) == 0:\n",
    "            placenameFinder(doc, text)\n",
    "        else:\n",
    "            # Converting coordinates to usable format\n",
    "            for i, coordinate in enumerate(docCoordinates):\n",
    "                coordinate = coordinate.replace(\",\", \"\").replace(\".\", \"\")\n",
    "                coordinate = re.findall(r\"\\d+\", coordinate)\n",
    "                docCoordinates[i] = coordinate\n",
    "\n",
    "        # Averaging coordinates of documents with multiple coordinates\n",
    "        if len(docCoordinates) != 1:\n",
    "            Xsum = 0\n",
    "            Ysum = 0\n",
    "            for c in docCoordinates:\n",
    "                Xsum += int(c[0])\n",
    "                Ysum += int(c[1])\n",
    "            docCoordinates = [[Xsum/len(docCoordinates), Ysum/len(docCoordinates)]]\n",
    "\n",
    "        # Converting Rijksdriehoek coordinates to WGS 84 coordinates\n",
    "        docWGS84 = rd2wgs(docCoordinates[0][0], docCoordinates[0][1])\n",
    "        # Listing langtide and longitude of each document\n",
    "        docLocations.append(str(doc) + \": lan: \"+ str(docWGS84[0]) + \", long: \" + str(docWGS84[1]))"
   ]
  },
  {
   "cell_type": "code",
   "execution_count": 238,
   "metadata": {},
   "outputs": [
    {
     "name": "stdout",
     "output_type": "stream",
     "text": [
      "D20650_RAAP-NOTITIE_274.txt: lan: 52.23386199592088, long: 4.443157261934848\n",
      "D30384_Rapport_Heeg_Lytshuzen_35.txt: lan: 52.977527603081725, long: 5.605656684474073\n",
      "D33465_rapport_vindplaatsen19-20-21.txt: lan: 52.014658412660275, long: 5.180357590248186\n",
      "D38139_arcrapport-2009-129.txt: lan: 51.52947086217353, long: 5.981876906634259\n",
      "D38273_ADC_73.txt: lan: 52.08456542507743, long: 5.0443514919783\n",
      "D38275_RAP_937_4107029_Neerijnen_Waardenburg_Brugconstructies.txt: lan: 51.83186627770101, long: 5.265587575190208\n",
      "D38312_arcrapport-2003-24_Middelburg_St._Laurens.txt: lan: 51.5267476533225, long: 3.6031095573987324\n",
      "D47635_Rap_2938_4131273_Hilversum_Jacob_van_Campenlaan_147_tot_193.txt: lan: 83.34749158885991, long: 80.6228793383521\n",
      "D56558_12126389_IJS_HAM_ARC_Eindrapportage_archeologisch_karterend.txt: lan: 52.033138921412075, long: 5.039455105047961\n",
      "D58053_GAR_1060_Klein_Canada_Beekbergen.txt: lan: 52.1623491336831, long: 5.968168531167361\n"
     ]
    }
   ],
   "source": [
    "# print output\n",
    "for location in docLocations:\n",
    "    print(location)"
   ]
  }
 ],
 "metadata": {
  "kernelspec": {
   "display_name": "Python 3",
   "language": "python",
   "name": "python3"
  },
  "language_info": {
   "codemirror_mode": {
    "name": "ipython",
    "version": 3
   },
   "file_extension": ".py",
   "mimetype": "text/x-python",
   "name": "python",
   "nbconvert_exporter": "python",
   "pygments_lexer": "ipython3",
   "version": "3.9.13"
  },
  "orig_nbformat": 4
 },
 "nbformat": 4,
 "nbformat_minor": 2
}
